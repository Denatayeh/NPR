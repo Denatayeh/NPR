{
 "cells": [
  {
   "cell_type": "markdown",
   "id": "dfef40b2",
   "metadata": {},
   "source": [
    "# Number Plate Recognition"
   ]
  },
  {
   "cell_type": "markdown",
   "id": "c5df5a14",
   "metadata": {},
   "source": [
    "**Importing necessary modules**"
   ]
  },
  {
   "cell_type": "code",
   "execution_count": 1,
   "id": "bf4b8d33",
   "metadata": {},
   "outputs": [],
   "source": [
    "import cv2\n",
    "import pytesseract\n",
    "import numpy as np\n",
    "import imutils\n",
    "import re\n",
    "import os\n",
    "from pathlib import Path\n",
    "import glob \n",
    "import Levenshtein\n",
    "import pathlib"
   ]
  },
  {
   "cell_type": "markdown",
   "id": "57480c02",
   "metadata": {},
   "source": [
    "**Specifying tesseract path**"
   ]
  },
  {
   "cell_type": "code",
   "execution_count": 2,
   "id": "3f39b0bc",
   "metadata": {},
   "outputs": [],
   "source": [
    "pytesseract.pytesseract.tesseract_cmd = r\"C:\\Program Files\\Tesseract-OCR\\tesseract.exe\""
   ]
  },
  {
   "cell_type": "markdown",
   "id": "170bcf64",
   "metadata": {},
   "source": [
    "### Preprocessing functions\n",
    "First image is converted to greyscale, then is blurred using mean blur. Finally image is inverted."
   ]
  },
  {
   "cell_type": "code",
   "execution_count": 3,
   "id": "e22829b8",
   "metadata": {},
   "outputs": [],
   "source": [
    "def preProcess(img):\n",
    "    gray_image = cv2.cvtColor(img, cv2.COLOR_BGR2GRAY)#greyscale\n",
    "    blur = cv2.blur(gray_image,(2,2))#blurring\n",
    "    inverted = 256- 1 - blur#inverting\n",
    "    return inverted"
   ]
  },
  {
   "cell_type": "markdown",
   "id": "c78e37de",
   "metadata": {},
   "source": [
    "Getting image edges, to find contours in order to determine plate location in  the `getplate(img,location)`."
   ]
  },
  {
   "cell_type": "code",
   "execution_count": 4,
   "id": "00f13920",
   "metadata": {},
   "outputs": [],
   "source": [
    "def getContours(img):\n",
    "    edged = cv2.Canny(img, 30, 200) #Edge detection\n",
    "    keypoints = cv2.findContours(edged.copy(), cv2.RETR_TREE, cv2.CHAIN_APPROX_SIMPLE) #Find contours \n",
    "    contours = imutils.grab_contours(keypoints) #Grab contours \n",
    "    contours = sorted(contours, key=cv2.contourArea, reverse=True)[:10] #Sort contours\n",
    "    \n",
    "    #Looping over our contours to find the best possible approximate contour of 10 contours\n",
    "    location = None\n",
    "    for contour in contours:\n",
    "        approx = cv2.approxPolyDP(contour, 10, True)\n",
    "        if len(approx) == 4:\n",
    "            location = approx\n",
    "            break\n",
    "    return location"
   ]
  },
  {
   "cell_type": "markdown",
   "id": "039340cf",
   "metadata": {},
   "source": [
    "Determining plate location for it to be sent to pytessseract ocr in order to read the plate numbers."
   ]
  },
  {
   "cell_type": "code",
   "execution_count": 5,
   "id": "1ad6bd3d",
   "metadata": {},
   "outputs": [],
   "source": [
    "def getplate(img,location):\n",
    "    mask = np.zeros(img.shape, np.uint8) #create blank image with same dimensions as the original image\n",
    "    new_image = cv2.drawContours(mask, [location], 0,255, -1) #Draw contours on the mask image\n",
    "    new_image = cv2.bitwise_and(img, img, mask=mask) #Take bitwise AND between the original image and mask image\n",
    "    (x,y) = np.where(mask==255) #Find the co-ordinates of the four corners of the document\n",
    "    (x1, y1) = (np.min(x), np.min(y)) #Find the top left corner\n",
    "    (x2, y2) = (np.max(x), np.max(y)) #Find the bottom right corner\n",
    "    cropped_image = img[x1:x2+1, y1:y2+1] #Crop the image using the co-ordinates\n",
    "    return cropped_image"
   ]
  },
  {
   "cell_type": "markdown",
   "id": "866a6fbe",
   "metadata": {},
   "source": [
    "The following function preprocesses the image using the previously defined functions, then sends the extracted plate to pytesseract, to get the plate number."
   ]
  },
  {
   "cell_type": "code",
   "execution_count": 6,
   "id": "364a7938",
   "metadata": {},
   "outputs": [],
   "source": [
    "def readplate(img):\n",
    "    preProcessed_img=preProcess(img)\n",
    "    contours=getContours(preProcessed_img)\n",
    "    try:\n",
    "        plate=getplate(preProcessed_img,contours)\n",
    "        data = pytesseract.image_to_string(plate, lang='eng', config='--oem 3 --psm 7 tessedit_char_whitelist=-0123456789ABCDEFGHIJKLMNOPQRSTUVWXYZ')\n",
    "        #specifying pystesseract configure\n",
    "        #--oem 3 => Using default engine\n",
    "        #--psm 7 => Treating the image as a single text line.\n",
    "        #tessedit_char_whitelist=-0123456789ABCDEFGHIJKLMNOPQRSTUVWXYZ => Specifying characters to recognize\n",
    "        data=re.sub(r'^[^a-zA-Z0-9]+|[^a-zA-Z0-9]+$', '', data)\n",
    "        #cleaning text using regular expressions to increase accuracy\n",
    "        return data\n",
    "    except:\n",
    "        return \"\"        "
   ]
  },
  {
   "cell_type": "markdown",
   "id": "6e13be26",
   "metadata": {},
   "source": [
    "a function that shows an image as in a pop-up window , to be used when necessary"
   ]
  },
  {
   "cell_type": "code",
   "execution_count": 7,
   "id": "8258937c",
   "metadata": {},
   "outputs": [],
   "source": [
    "def showim(img):\n",
    "    cv2.imshow('', img)\n",
    "    cv2.waitKey(0)\n",
    "    # Window shown waits for any key pressing event\n",
    "    cv2.destroyAllWindows()"
   ]
  },
  {
   "cell_type": "markdown",
   "id": "86ef3a5f",
   "metadata": {},
   "source": [
    "## First try: \n",
    "Extracting plate numbers without any preprocessing"
   ]
  },
  {
   "cell_type": "code",
   "execution_count": 8,
   "id": "41d544cf",
   "metadata": {},
   "outputs": [],
   "source": [
    "def raw_readplate(img): #This functions uses tesseract to get plate number , but without any preprocessing\n",
    "        data = pytesseract.image_to_string(img, lang='eng', config='--oem 3 --psm 7')\n",
    "        data=re.sub(r'^[^a-zA-Z0-9]+|[^a-zA-Z0-9]+$', '', data)\n",
    "        return data       "
   ]
  },
  {
   "cell_type": "code",
   "execution_count": 10,
   "id": "cd4dd502",
   "metadata": {},
   "outputs": [
    {
     "name": "stdout",
     "output_type": "stream",
     "text": [
      "Actual License Plate     Predicted License Plate      Accuracy\n",
      "----------------------------------------------------------------------\n",
      "172 TMJ                  e                             0.00\n",
      "42-UK-32                                               0.00\n",
      "ALR 486                  a                             0.00\n",
      "BKTP 665                                               0.00\n",
      "Cars84                                                 0.00\n",
      "CH01AN0001                                             0.00\n",
      "CZ17 KOD                                               0.00\n",
      "DAN 54P                                                0.00\n",
      "DL7C N 5617                                            0.00\n",
      "DZI7 YXR                                               0.00\n",
      "G526 JHD                                               0.00\n",
      "GJ03JL0126               s ‘2 == 5                     0.11\n",
      "GJW-1-15-A-1138                                        0.00\n",
      "HR 26 BR 9044                                          0.00\n",
      "HR 26 CT 6702                                          0.00\n",
      "HR26 BP3543                                            0.00\n",
      "HR26BC5514                                             0.00\n",
      "HR26DG6167                                             0.00\n",
      "HR26DK6475                                             0.00\n",
      "KL 10 AV 6633                                          0.00\n",
      "KL 16 J 3636                                           0.00\n",
      "KL 1GAV6342                                            0.00\n",
      "KL 54 H 369                                            0.00\n",
      "KL 65 H 4383                                           0.00\n",
      "KL01AX8000                                             0.00\n",
      "KL07BF5000                                             0.00\n",
      "KL43B 2344                                             0.00\n",
      "KL54 A 2670                                            0.00\n",
      "KL55R 2473                                             0.00\n",
      "KLG1CA2555                                             0.00\n",
      "KYI9 VNU                                               0.00\n",
      "LR33 TEE                 aN d                          0.17\n",
      "M666 YOB                                               0.00\n",
      "MH 12 NE 8922                                          0.00\n",
      "MH 14DX9937                                            0.00\n",
      "MH 15BD8877                                            0.00\n",
      "MH 20 EE 0943                                          0.00\n",
      "MH 20 EE 7598                                          0.00\n",
      "MH12DE1433                                             0.00\n",
      "MH12JC28 13                                            0.00\n",
      "MH14DT8831                                             0.00\n",
      "MH14EU3498                                             0.00\n",
      "MH20CS 1938              ee                            0.00\n",
      "MH20CS9817                                             0.00\n",
      "MHO2CT 2727                                            0.00\n",
      "MK-35-32                                               0.00\n",
      "PG MN112                                               0.00\n",
      "PH-792-N                 z                             0.00\n",
      "PJ-323-K                                               0.00\n",
      "PUI8 BES                                               0.00\n",
      "TK-642-F                 Ps                            0.00\n",
      "TN 21BC 6225                                           0.00\n",
      "TN 45BA 1065                                           0.00\n",
      "TN 99F 2378              Ny                            0.15\n",
      "TN07BU5427                                             0.00\n",
      "TN07BVS200                                             0.00\n",
      "TN52U 1580                                             0.00\n",
      "TS 08 FM 8888                                          0.00\n",
      "UP16TC1366               S                             0.00\n",
      "WOR 5I6K                 Emm                           0.00\n",
      "----------------------------------------------------------------------\n",
      "                         Overall Accuracy:             0.01      \n"
     ]
    }
   ],
   "source": [
    "print(f\"{'Actual License Plate':<25}{'Predicted License Plate':<29}{'Accuracy':<8}\")\n",
    "print(\"-\" * 70)\n",
    "i=0\n",
    "sum=0\n",
    "folder_dir = 'dataset'\n",
    "images = Path(folder_dir).glob('*.png') \n",
    "#looping over images in a specified directory, accuracy is calculated using levenshtein ratio.\n",
    "for image in images:\n",
    "    i+=1\n",
    "    actual_plate=pathlib.Path(image).stem\n",
    "    predicted_plate=raw_readplate(cv2.imread(image))\n",
    "    accuracy=Levenshtein.ratio(actual_plate, predicted_plate)\n",
    "    sum+=accuracy\n",
    "    print(f\"{actual_plate:<25}{predicted_plate:<30}{accuracy:.2f}\")\n",
    "Overall_accuracy=(sum/i)\n",
    "print((\"-\"*70),f\"{'':<25}{'Overall Accuracy:':<30}{Overall_accuracy:<10.2f}\",sep=\"\\n\")"
   ]
  },
  {
   "cell_type": "markdown",
   "id": "6d9005be",
   "metadata": {},
   "source": [
    "> As we can conclude, no preprocessing or edge detection yields terrible accuracy, which means that preprocessing and edge detection are crucial steps before using pytesseract."
   ]
  },
  {
   "cell_type": "markdown",
   "id": "fb5cbc09",
   "metadata": {},
   "source": [
    "## Second try: \n",
    "Extracting plate numbers with some preprocessing (only converting to grey scale, blurring and inverting image, without any contouring or edge detection)"
   ]
  },
  {
   "cell_type": "code",
   "execution_count": 11,
   "id": "9ff031c4",
   "metadata": {},
   "outputs": [],
   "source": [
    "def nocontouring_readplate(img):\n",
    "    preProcessed_img=preProcess(img)\n",
    "    try:\n",
    "        data = pytesseract.image_to_string(img, lang='eng', config='--oem 3 --psm 7 tessedit_char_whitelist=-0123456789ABCDEFGHIJKLMNOPQRSTUVWXYZ')\n",
    "        #specifying pystesseract configure\n",
    "        #--oem 3 => Using default engine\n",
    "        #--psm 7 => Treating the image as a single text line.\n",
    "        #tessedit_char_whitelist=-0123456789ABCDEFGHIJKLMNOPQRSTUVWXYZ => Specifying characters to recognize\n",
    "        data=re.sub(r'^[^a-zA-Z0-9]+|[^a-zA-Z0-9]+$', '', data)\n",
    "        #cleaning text using regular expressions to increase accuracy\n",
    "        return data\n",
    "    except:\n",
    "        return \"\"        "
   ]
  },
  {
   "cell_type": "code",
   "execution_count": 12,
   "id": "d2ec744d",
   "metadata": {},
   "outputs": [
    {
     "name": "stdout",
     "output_type": "stream",
     "text": [
      "Actual License Plate     Predicted License Plate      Accuracy\n",
      "----------------------------------------------------------------------\n",
      "172 TMJ                  e                             0.00\n",
      "42-UK-32                                               0.00\n",
      "ALR 486                  a                             0.00\n",
      "BKTP 665                                               0.00\n",
      "Cars84                                                 0.00\n",
      "CH01AN0001                                             0.00\n",
      "CZ17 KOD                                               0.00\n",
      "DAN 54P                                                0.00\n",
      "DL7C N 5617                                            0.00\n",
      "DZI7 YXR                                               0.00\n",
      "G526 JHD                                               0.00\n",
      "GJ03JL0126               s ‘2 == 5                     0.11\n",
      "GJW-1-15-A-1138                                        0.00\n",
      "HR 26 BR 9044                                          0.00\n",
      "HR 26 CT 6702                                          0.00\n",
      "HR26 BP3543                                            0.00\n",
      "HR26BC5514                                             0.00\n",
      "HR26DG6167                                             0.00\n",
      "HR26DK6475                                             0.00\n",
      "KL 10 AV 6633                                          0.00\n",
      "KL 16 J 3636                                           0.00\n",
      "KL 1GAV6342                                            0.00\n",
      "KL 54 H 369                                            0.00\n",
      "KL 65 H 4383                                           0.00\n",
      "KL01AX8000                                             0.00\n",
      "KL07BF5000                                             0.00\n",
      "KL43B 2344                                             0.00\n",
      "KL54 A 2670                                            0.00\n",
      "KL55R 2473                                             0.00\n",
      "KLG1CA2555                                             0.00\n",
      "KYI9 VNU                                               0.00\n",
      "LR33 TEE                 aN d                          0.17\n",
      "M666 YOB                                               0.00\n",
      "MH 12 NE 8922                                          0.00\n",
      "MH 14DX9937                                            0.00\n",
      "MH 15BD8877                                            0.00\n",
      "MH 20 EE 0943                                          0.00\n",
      "MH 20 EE 7598                                          0.00\n",
      "MH12DE1433                                             0.00\n",
      "MH12JC28 13                                            0.00\n",
      "MH14DT8831                                             0.00\n",
      "MH14EU3498                                             0.00\n",
      "MH20CS 1938              ee                            0.00\n",
      "MH20CS9817                                             0.00\n",
      "MHO2CT 2727                                            0.00\n",
      "MK-35-32                                               0.00\n",
      "PG MN112                                               0.00\n",
      "PH-792-N                 z                             0.00\n",
      "PJ-323-K                                               0.00\n",
      "PUI8 BES                                               0.00\n",
      "TK-642-F                 Ps                            0.00\n",
      "TN 21BC 6225                                           0.00\n",
      "TN 45BA 1065                                           0.00\n",
      "TN 99F 2378              Ny                            0.15\n",
      "TN07BU5427                                             0.00\n",
      "TN07BVS200                                             0.00\n",
      "TN52U 1580                                             0.00\n",
      "TS 08 FM 8888                                          0.00\n",
      "UP16TC1366               S                             0.00\n",
      "WOR 5I6K                 Emm                           0.00\n",
      "----------------------------------------------------------------------\n",
      "                         Overall Accuracy:             0.01      \n"
     ]
    }
   ],
   "source": [
    "print(f\"{'Actual License Plate':<25}{'Predicted License Plate':<29}{'Accuracy':<8}\")\n",
    "print(\"-\" * 70)\n",
    "i=0\n",
    "sum=0\n",
    "folder_dir = 'dataset'\n",
    "images = Path(folder_dir).glob('*.png')\n",
    "for image in images:\n",
    "    i+=1\n",
    "    actual_plate=pathlib.Path(image).stem\n",
    "    predicted_plate=nocontouring_readplate(cv2.imread(image))\n",
    "    accuracy=Levenshtein.ratio(actual_plate, predicted_plate)\n",
    "    sum+=accuracy\n",
    "    print(f\"{actual_plate:<25}{predicted_plate:<30}{accuracy:.2f}\")\n",
    "Overall_accuracy=(sum/i)\n",
    "print((\"-\"*70),f\"{'':<25}{'Overall Accuracy:':<30}{Overall_accuracy:<10.2f}\",sep=\"\\n\")"
   ]
  },
  {
   "cell_type": "markdown",
   "id": "465379be",
   "metadata": {},
   "source": [
    "> As we can conclude, preprocessing without edge detection yields terrible accuracy, which means that preprocessing didn't enhace our results for this case and edge detection is a crucial step before using pytesseract, too."
   ]
  },
  {
   "cell_type": "markdown",
   "id": "581159f5",
   "metadata": {},
   "source": [
    "## Third try: \n",
    "Extracting plate numbers without preprocessing but using edge detection"
   ]
  },
  {
   "cell_type": "code",
   "execution_count": 13,
   "id": "f2bf27f2",
   "metadata": {},
   "outputs": [],
   "source": [
    "def onlyContouring_readplate(img):\n",
    "    contours=getContours(img)\n",
    "    try:\n",
    "        plate=getplate(img,contours)\n",
    "        data = pytesseract.image_to_string(plate, lang='eng', config='--oem 3 --psm 7 tessedit_char_whitelist=-0123456789ABCDEFGHIJKLMNOPQRSTUVWXYZ')\n",
    "        #specifying pystesseract configure\n",
    "        #--oem 3 => Using default engine\n",
    "        #--psm 7 => Treating the image as a single text line.\n",
    "        #tessedit_char_whitelist=-0123456789ABCDEFGHIJKLMNOPQRSTUVWXYZ => Specifying characters to recognize\n",
    "        data=re.sub(r'^[^a-zA-Z0-9]+|[^a-zA-Z0-9]+$', '', data)\n",
    "        #cleaning text using regular expressions to increase accuracy\n",
    "        return data\n",
    "    except:\n",
    "        return \"\"      "
   ]
  },
  {
   "cell_type": "code",
   "execution_count": 14,
   "id": "4774c2c8",
   "metadata": {},
   "outputs": [
    {
     "name": "stdout",
     "output_type": "stream",
     "text": [
      "Actual License Plate     Predicted License Plate      Accuracy\n",
      "----------------------------------------------------------------------\n",
      "172 TMJ                                                0.00\n",
      "42-UK-32                                               0.00\n",
      "ALR 486                                                0.00\n",
      "BKTP 665                                               0.00\n",
      "Cars84                                                 0.00\n",
      "CH01AN0001                                             0.00\n",
      "CZ17 KOD                                               0.00\n",
      "DAN 54P                                                0.00\n",
      "DL7C N 5617                                            0.00\n",
      "DZI7 YXR                                               0.00\n",
      "G526 JHD                                               0.00\n",
      "GJ03JL0126                                             0.00\n",
      "GJW-1-15-A-1138                                        0.00\n",
      "HR 26 BR 9044                                          0.00\n",
      "HR 26 CT 6702                                          0.00\n",
      "HR26 BP3543                                            0.00\n",
      "HR26BC5514                                             0.00\n",
      "HR26DG6167                                             0.00\n",
      "HR26DK6475                                             0.00\n",
      "KL 10 AV 6633                                          0.00\n",
      "KL 16 J 3636                                           0.00\n",
      "KL 1GAV6342                                            0.00\n",
      "KL 54 H 369                                            0.00\n",
      "KL 65 H 4383                                           0.00\n",
      "KL01AX8000                                             0.00\n",
      "KL07BF5000                                             0.00\n",
      "KL43B 2344                                             0.00\n",
      "KL54 A 2670                                            0.00\n",
      "KL55R 2473                                             0.00\n",
      "KLG1CA2555                                             0.00\n",
      "KYI9 VNU                                               0.00\n",
      "LR33 TEE                                               0.00\n",
      "M666 YOB                                               0.00\n",
      "MH 12 NE 8922                                          0.00\n",
      "MH 14DX9937                                            0.00\n",
      "MH 15BD8877                                            0.00\n",
      "MH 20 EE 0943                                          0.00\n",
      "MH 20 EE 7598                                          0.00\n",
      "MH12DE1433                                             0.00\n",
      "MH12JC28 13                                            0.00\n",
      "MH14DT8831                                             0.00\n",
      "MH14EU3498                                             0.00\n",
      "MH20CS 1938                                            0.00\n",
      "MH20CS9817                                             0.00\n",
      "MHO2CT 2727                                            0.00\n",
      "MK-35-32                                               0.00\n",
      "PG MN112                                               0.00\n",
      "PH-792-N                                               0.00\n",
      "PJ-323-K                                               0.00\n",
      "PUI8 BES                                               0.00\n",
      "TK-642-F                                               0.00\n",
      "TN 21BC 6225                                           0.00\n",
      "TN 45BA 1065                                           0.00\n",
      "TN 99F 2378                                            0.00\n",
      "TN07BU5427                                             0.00\n",
      "TN07BVS200                                             0.00\n",
      "TN52U 1580                                             0.00\n",
      "TS 08 FM 8888                                          0.00\n",
      "UP16TC1366                                             0.00\n",
      "WOR 5I6K                                               0.00\n",
      "----------------------------------------------------------------------\n",
      "                         Overall Accuracy:             0.00      \n"
     ]
    }
   ],
   "source": [
    "print(f\"{'Actual License Plate':<25}{'Predicted License Plate':<29}{'Accuracy':<8}\")\n",
    "print(\"-\" * 70)\n",
    "i=0\n",
    "sum=0\n",
    "folder_dir = 'dataset'\n",
    "images = Path(folder_dir).glob('*.png')\n",
    "for image in images:\n",
    "    i+=1\n",
    "    actual_plate=pathlib.Path(image).stem\n",
    "    predicted_plate=onlyContouring_readplate(cv2.imread(image))\n",
    "    accuracy=Levenshtein.ratio(actual_plate, predicted_plate)\n",
    "    sum+=accuracy\n",
    "    print(f\"{actual_plate:<25}{predicted_plate:<30}{accuracy:.2f}\")\n",
    "Overall_accuracy=(sum/i)\n",
    "print((\"-\"*70),f\"{'':<25}{'Overall Accuracy:':<30}{Overall_accuracy:<10.2f}\",sep=\"\\n\")"
   ]
  },
  {
   "cell_type": "markdown",
   "id": "fbcb470f",
   "metadata": {},
   "source": [
    "> As we can conclude, edge detection without preprocessing gives an even worse result, which means that preprocessing is a crucial step before using pytesseract."
   ]
  },
  {
   "cell_type": "markdown",
   "id": "0103346d",
   "metadata": {},
   "source": [
    "## Fourth Try:\n",
    "having some preprocessing alongside contouring , and actually having results"
   ]
  },
  {
   "cell_type": "code",
   "execution_count": 15,
   "id": "4f861dcc",
   "metadata": {},
   "outputs": [],
   "source": [
    "def minimal_preProcess1(img):\n",
    "    gray_image = cv2.cvtColor(img, cv2.COLOR_BGR2GRAY)#greyscale\n",
    "    blur = cv2.GaussianBlur(gray_image, (3, 3), 0)#blurring\n",
    "    inverted = 256- 1 - gray_image#inverting\n",
    "    return inverted"
   ]
  },
  {
   "cell_type": "code",
   "execution_count": 16,
   "id": "3321dcde",
   "metadata": {},
   "outputs": [],
   "source": [
    "def minimal_preprocessing_readplate(img):\n",
    "    preProcessed_img=minimal_preProcess1(img)\n",
    "    contours=getContours(preProcessed_img)\n",
    "    try:\n",
    "        plate=getplate(preProcessed_img,contours)\n",
    "        data = pytesseract.image_to_string(plate, lang='eng', config='--oem 3 --psm 7 tessedit_char_whitelist=-0123456789ABCDEFGHIJKLMNOPQRSTUVWXYZ')\n",
    "        #specifying pystesseract configure\n",
    "        #--oem 3 => Using default engine\n",
    "        #--psm 7 => Treating the image as a single text line.\n",
    "        #tessedit_char_whitelist=-0123456789ABCDEFGHIJKLMNOPQRSTUVWXYZ => Specifying characters to recognize\n",
    "        data=re.sub(r'^[^a-zA-Z0-9]+|[^a-zA-Z0-9]+$', '', data)\n",
    "        #cleaning text using regular expressions to increase accuracy\n",
    "        return data\n",
    "    except:\n",
    "        return \"\"        "
   ]
  },
  {
   "cell_type": "code",
   "execution_count": 17,
   "id": "4ac10408",
   "metadata": {},
   "outputs": [
    {
     "name": "stdout",
     "output_type": "stream",
     "text": [
      "Actual License Plate     Predicted License Plate      Accuracy\n",
      "----------------------------------------------------------------------\n",
      "172 TMJ                  172 TMJ                       1.00\n",
      "42-UK-32                 w= —— a                       0.00\n",
      "ALR 486                  ALR 466                       0.86\n",
      "BKTP 665                                               0.00\n",
      "Cars84                                                 0.00\n",
      "CH01AN0001               CHO1ANO001                    0.80\n",
      "CZ17 KOD                 CZI7 KOD                      0.88\n",
      "DAN 54P                  DAN 54P                       1.00\n",
      "DL7C N 5617              DL7C N 5617                   1.00\n",
      "DZI7 YXR                 DZI7 YXR                      1.00\n",
      "G526 JHD                                               0.00\n",
      "GJ03JL0126               G6J03JL0126                   0.95\n",
      "GJW-1-15-A-1138          GJW-1-15-A-1138               1.00\n",
      "HR 26 BR 9044            HR 26 BR 9044                 1.00\n",
      "HR 26 CT 6702            HR 26 CT 6702                 1.00\n",
      "HR26 BP3543              R26 BP3543                    0.95\n",
      "HR26BC5514                                             0.00\n",
      "HR26DG6167                                             0.00\n",
      "HR26DK6475                                             0.00\n",
      "KL 10 AV 6633            KL 10 AV 6633                 1.00\n",
      "KL 16 J 3636             KL 16 J 3636                  1.00\n",
      "KL 1GAV6342              KL 1G AV 6342                 0.92\n",
      "KL 54 H 369              KL 54 H 369                   1.00\n",
      "KL 65 H 4383             hKL. 65H 4383                 0.88\n",
      "KL01AX8000               KLOTAX8000                    0.80\n",
      "KL07BF5000               a ba he                       0.00\n",
      "KL43B 2344               KL 43 B 2344                  0.91\n",
      "KL54 A 2670                                            0.00\n",
      "KL55R 2473               KL55R 2473                    1.00\n",
      "KLG1CA2555               KLG10A2555                    0.90\n",
      "KYI9 VNU                                               0.00\n",
      "LR33 TEE                 4LR33 TEE                     0.94\n",
      "M666 YOB                 M&66 YOB                      0.88\n",
      "MH 12 NE 8922            MH 12 NE 6922                 0.92\n",
      "MH 14DX9937              a                             0.00\n",
      "MH 15BD8877              MH15B08677                    0.76\n",
      "MH 20 EE 0943            MH 20 EE 0943                 1.00\n",
      "MH 20 EE 7598            MH 20 EE 7598                 1.00\n",
      "MH12DE1433                                             0.00\n",
      "MH12JC28 13              MH12JC2813                    0.95\n",
      "MH14DT8831               MH14DT8831                    1.00\n",
      "MH14EU3498               MH14EU3498                    1.00\n",
      "MH20CS 1938              y                             0.00\n",
      "MH20CS9817               MH20CS9817                    1.00\n",
      "MHO2CT 2727              MHO2CT2727                    0.95\n",
      "MK-35-32                 MK-35-32                      1.00\n",
      "PG MN112                 PGeMN112                      0.88\n",
      "PH-792-N                 PH-792-N                      1.00\n",
      "PJ-323-K                                               0.00\n",
      "PUI8 BES                                               0.00\n",
      "TK-642-F                 C                             0.00\n",
      "TN 21BC 6225             TN 2180 6285                  0.75\n",
      "TN 45BA 1065             y                             0.00\n",
      "TN 99F 2378              TN SSF E378                   0.73\n",
      "TN07BU5427                                             0.00\n",
      "TN07BVS200                                             0.00\n",
      "TN52U 1580               he                            0.00\n",
      "TS 08 FM 8888            TS 08 FM 8888                 1.00\n",
      "UP16TC1366               gee                           0.00\n",
      "WOR 5I6K                 WOR SI6K                      0.88\n",
      "----------------------------------------------------------------------\n",
      "                         Overall Accuracy:             0.61      \n"
     ]
    }
   ],
   "source": [
    "print(f\"{'Actual License Plate':<25}{'Predicted License Plate':<29}{'Accuracy':<8}\")\n",
    "print(\"-\" * 70)\n",
    "i=0\n",
    "sum=0\n",
    "folder_dir = 'dataset'\n",
    "images = Path(folder_dir).glob('*.png')\n",
    "for image in images:\n",
    "    i+=1\n",
    "    actual_plate=pathlib.Path(image).stem\n",
    "    predicted_plate=minimal_preprocessing_readplate(cv2.imread(image))\n",
    "    accuracy=Levenshtein.ratio(actual_plate, predicted_plate)\n",
    "    sum+=accuracy\n",
    "    print(f\"{actual_plate:<25}{predicted_plate:<30}{accuracy:.2f}\")\n",
    "Overall_accuracy=(sum/i)\n",
    "print((\"-\"*70),f\"{'':<25}{'Overall Accuracy:':<30}{Overall_accuracy:<10.2f}\",sep=\"\\n\")"
   ]
  },
  {
   "cell_type": "markdown",
   "id": "4a1895d4",
   "metadata": {},
   "source": [
    "#### As we can see, preprocessing and using gaussian blur with kernel of 3*3 increased our acuuracy by about 60%\n",
    "we tried other kernel values for gaussian blur that gave us the following accuracies:\n",
    "\n",
    "kernel size &nbsp;&nbsp;&nbsp; accuracy\n",
    "\n",
    "- 5*5 &nbsp;&nbsp;&nbsp;&nbsp;&nbsp;&nbsp;&nbsp;&nbsp;&nbsp;&nbsp;&nbsp; 0.60\n",
    "- 7*7 &nbsp;&nbsp;&nbsp;&nbsp;&nbsp;&nbsp;&nbsp;&nbsp;&nbsp;&nbsp;&nbsp; 0.49\n",
    "- 9*9 &nbsp;&nbsp;&nbsp;&nbsp;&nbsp;&nbsp;&nbsp;&nbsp;&nbsp;&nbsp;&nbsp; 0.36\n"
   ]
  },
  {
   "cell_type": "markdown",
   "id": "ec8ca09b",
   "metadata": {},
   "source": [
    "## Fifth Try:\n",
    "trying another preprocessing approach (using mean/average blur instead of gaussian) alongside contouring, to see whether accuracy increases."
   ]
  },
  {
   "cell_type": "code",
   "execution_count": 18,
   "id": "bbecb20c",
   "metadata": {},
   "outputs": [
    {
     "name": "stdout",
     "output_type": "stream",
     "text": [
      "Actual License Plate     Predicted License Plate      Accuracy\n",
      "----------------------------------------------------------------------\n",
      "172 TMJ                  172 TMJ                       1.00\n",
      "42-UK-32                 4 oe                          0.17\n",
      "ALR 486                  ALR 466                       0.86\n",
      "BKTP 665                 j BKTP- 665                   0.84\n",
      "Cars84                   ff i                          0.00\n",
      "CH01AN0001               CHO1AN0001                    0.90\n",
      "CZ17 KOD                 C217 KOD                      0.88\n",
      "DAN 54P                  DAN 54P                       1.00\n",
      "DL7C N 5617              DL7C N 5617                   1.00\n",
      "DZI7 YXR                 DZI7 YXR                      1.00\n",
      "G526 JHD                 G526 JHD                      1.00\n",
      "GJ03JL0126               6J03JL0126                    0.90\n",
      "GJW-1-15-A-1138          GIW-1-15-A-1138               0.93\n",
      "HR 26 BR 9044            HR 26 BR 9044                 1.00\n",
      "HR 26 CT 6702            HR 26 CT 6702                 1.00\n",
      "HR26 BP3543              HR26 BP3543                   1.00\n",
      "HR26BC5514               ff i                          0.00\n",
      "HR26DG6167               HR26DG6167                    1.00\n",
      "HR26DK6475               HR26DK6475                    1.00\n",
      "KL 10 AV 6633            KL 10 AV 6633                 1.00\n",
      "KL 16 J 3636             KL _16 J 3636                 0.96\n",
      "KL 1GAV6342              KL 1GAV6342                   1.00\n",
      "KL 54 H 369              KL 54 H 369                   1.00\n",
      "KL 65 H 4383             KL 65H 4983                   0.87\n",
      "KL01AX8000               KLOTAX8000                    0.80\n",
      "KL07BF5000               KLO7BF5000                    0.90\n",
      "KL43B 2344               KL43B 2344                    1.00\n",
      "KL54 A 2670              KL54-4 2670                   0.82\n",
      "KL55R 2473               KL55R 2473                    1.00\n",
      "KLG1CA2555               KLG10A2555                    0.90\n",
      "KYI9 VNU                 KYIS VNU                      0.88\n",
      "LR33 TEE                 4LR33 TEE                     0.94\n",
      "M666 YOB                 M&66E YOB                     0.82\n",
      "MH 12 NE 8922            MH 12 NE eaee                 0.69\n",
      "MH 14DX9937              MH 140%9937                   0.82\n",
      "MH 15BD8877              MH15B08877                    0.86\n",
      "MH 20 EE 0943            MH 20 EE 0943                 1.00\n",
      "MH 20 EE 7598            MH 20 EE 7598                 1.00\n",
      "MH12DE1433               HH12DE1433                    0.90\n",
      "MH12JC28 13              MH12JC28 13                   1.00\n",
      "MH14DT8831               MH14DT8831                    1.00\n",
      "MH14EU3498               MH1GEU3498                    0.90\n",
      "MH20CS 1938              WH20CS 1933                   0.82\n",
      "MH20CS9817               MH20CS9817                    1.00\n",
      "MHO2CT 2727              MHO2CT 2727                   1.00\n",
      "MK-35-32                 MK-35-32                      1.00\n",
      "PG MN112                 PGeMN112                      0.88\n",
      "PH-792-N                 PH-792-N                      1.00\n",
      "PJ-323-K                 PJ-323-K                      1.00\n",
      "PUI8 BES                 PUIG BES                      0.88\n",
      "TK-642-F                 TK-642-F                      1.00\n",
      "TN 21BC 6225             TN 2180 6225                  0.83\n",
      "TN 45BA 1065             TH 45BA 1065                  0.92\n",
      "TN 99F 2378              TN 9SF 2378                   0.91\n",
      "TN07BU5427               TH07BU54:27                   0.86\n",
      "TN07BVS200               THO7BYS200                    0.70\n",
      "TN52U 1580               TN52U 1580                    1.00\n",
      "TS 08 FM 8888            TS 08 FM 8888                 1.00\n",
      "UP16TC1366               wisteises                     0.00\n",
      "WOR 5I6K                 WOR SIGK J                    0.67\n",
      "----------------------------------------------------------------------\n",
      "                         Overall Accuracy:             0.87      \n"
     ]
    }
   ],
   "source": [
    "print(f\"{'Actual License Plate':<25}{'Predicted License Plate':<29}{'Accuracy':<8}\")\n",
    "print(\"-\" * 70)\n",
    "i=0\n",
    "sum=0\n",
    "folder_dir = 'dataset'\n",
    "images = Path(folder_dir).glob('*.png')\n",
    "for image in images:\n",
    "    i+=1\n",
    "    actual_plate=pathlib.Path(image).stem\n",
    "    predicted_plate=readplate(cv2.imread(image))\n",
    "    accuracy=Levenshtein.ratio(actual_plate, predicted_plate)\n",
    "    sum+=accuracy\n",
    "    print(f\"{actual_plate:<25}{predicted_plate:<30}{accuracy:.2f}\")\n",
    "Overall_accuracy=(sum/i)\n",
    "print((\"-\"*70),f\"{'':<25}{'Overall Accuracy:':<30}{Overall_accuracy:<10.2f}\",sep=\"\\n\")"
   ]
  },
  {
   "cell_type": "markdown",
   "id": "daf0a7ff",
   "metadata": {},
   "source": [
    "#### As we can see, preprocessing and using normalized box blur with kernel of 2*2 increased our acuuracy to 0.87\n",
    "we tried other kernel values for box blur that gave us the following accuracies:\n",
    "\n",
    "kernel size &nbsp;&nbsp;&nbsp; accuracy\n",
    "\n",
    "- 3*3 &nbsp;&nbsp;&nbsp;&nbsp;&nbsp;&nbsp;&nbsp;&nbsp;&nbsp;&nbsp;&nbsp; 0.66\n",
    "- 4*4 &nbsp;&nbsp;&nbsp;&nbsp;&nbsp;&nbsp;&nbsp;&nbsp;&nbsp;&nbsp;&nbsp; 0.37\n",
    "- 5*5 &nbsp;&nbsp;&nbsp;&nbsp;&nbsp;&nbsp;&nbsp;&nbsp;&nbsp;&nbsp;&nbsp; 0.18\n"
   ]
  },
  {
   "cell_type": "markdown",
   "id": "78051a0e",
   "metadata": {},
   "source": [
    "### so we can conclude that this approach:\n",
    "***greysclaing->box blurring of kernel(2,2)->invertion->contouring*** yeilds the best possible result with accuracy of 0.87"
   ]
  }
 ],
 "metadata": {
  "kernelspec": {
   "display_name": "Python 3 (ipykernel)",
   "language": "python",
   "name": "python3"
  },
  "language_info": {
   "codemirror_mode": {
    "name": "ipython",
    "version": 3
   },
   "file_extension": ".py",
   "mimetype": "text/x-python",
   "name": "python",
   "nbconvert_exporter": "python",
   "pygments_lexer": "ipython3",
   "version": "3.11.3"
  }
 },
 "nbformat": 4,
 "nbformat_minor": 5
}
